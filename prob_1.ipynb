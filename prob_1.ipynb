{
 "cells": [
  {
   "cell_type": "code",
   "execution_count": 1,
   "metadata": {},
   "outputs": [],
   "source": [
    "import matplotlib.pyplot as plt\n",
    "import numpy as np\n",
    "from sklearn import linear_model\n",
    "from sklearn.metrics import mean_squared_error, r2_score"
   ]
  },
  {
   "cell_type": "code",
   "execution_count": 2,
   "metadata": {},
   "outputs": [],
   "source": [
    "# Load the datasets\n",
    "X = np.load(\"Xtrain_Regression_Part1.npy\")\n",
    "Y = np.load(\"Ytrain_Regression_Part1.npy\")"
   ]
  },
  {
   "cell_type": "markdown",
   "metadata": {},
   "source": [
    "Estudar os datasets primeiro\n",
    "\n",
    "Ver se ha uma relacao linear primeiro por exemplo"
   ]
  },
  {
   "cell_type": "code",
   "execution_count": 3,
   "metadata": {},
   "outputs": [],
   "source": [
    "X_test = X[-20:] #Select the last 20 points for testing\n",
    "X_train = X[:-20] #Select the 80 1st points for training\n",
    "\n",
    "#Same thing for Y\n",
    "Y_test = Y[-20:]\n",
    "Y_train = Y[:-20]"
   ]
  },
  {
   "cell_type": "code",
   "execution_count": 4,
   "metadata": {},
   "outputs": [],
   "source": [
    "# Create linear regression object\n",
    "model = linear_model.LinearRegression()"
   ]
  },
  {
   "cell_type": "code",
   "execution_count": 5,
   "metadata": {},
   "outputs": [
    {
     "name": "stdout",
     "output_type": "stream",
     "text": [
      "Coefficients: \n",
      " [[ 0.02578998 -0.00459656  0.06721258  0.34682716 -0.68338519  1.71384006\n",
      "   0.05578593  1.7907473   0.02299112 -0.00862937 -1.45424667 -0.69760784\n",
      "   0.03178169 -0.62608289  0.01182607 -0.36936635 -0.13176386 -1.36520052\n",
      "  -1.27415487  0.96212664]]\n",
      "Number of features 20\n"
     ]
    }
   ],
   "source": [
    "# Train the model using the training sets\n",
    "model.fit(X_train, Y_train)\n",
    "\n",
    "# Make predictions using the testing set\n",
    "Y_pred = model.predict(X_test)\n",
    "\n",
    "# The coefficients\n",
    "print('Coefficients: \\n', model.coef_)\n",
    "print(f\"Number of features {model.n_features_in_}\")\n",
    "\n"
   ]
  },
  {
   "cell_type": "code",
   "execution_count": 6,
   "metadata": {},
   "outputs": [
    {
     "data": {
      "text/plain": [
       "0.9986059034636457"
      ]
     },
     "execution_count": 6,
     "metadata": {},
     "output_type": "execute_result"
    }
   ],
   "source": [
    "r2_score(Y_test,Y_pred)"
   ]
  },
  {
   "cell_type": "code",
   "execution_count": 7,
   "metadata": {},
   "outputs": [
    {
     "data": {
      "text/plain": [
       "<matplotlib.collections.PathCollection at 0x7fdafb879ac0>"
      ]
     },
     "execution_count": 7,
     "metadata": {},
     "output_type": "execute_result"
    },
    {
     "data": {
      "image/png": "[encoded data removed]",
      "text/plain": [
       "<Figure size 432x288 with 1 Axes>"
      ]
     },
     "metadata": {
      "needs_background": "light"
     },
     "output_type": "display_data"
    }
   ],
   "source": [
    "plt.plot(X_test[:,0], X_test[:,0]*model.coef_[0][0], color='red', linewidth=2)\n",
    "plt.scatter(X_train[:,0], Y_train[:,0])"
   ]
  },
  {
   "cell_type": "code",
   "execution_count": 8,
   "metadata": {},
   "outputs": [],
   "source": [
    "# for i in range(X_train.shape[1]):\n",
    "# #Train the model using the training sets\n",
    "#    model.fit(X_train[:, np.newaxis, i], Y_train)\n",
    "\n",
    "#    # Make predictions using the testing set\n",
    "#    Y_pred = model.predict(X_test[:, np.newaxis, i])\n",
    "\n",
    "#    # The coefficients\n",
    "#    print('Coefficients: \\n', model.coef_)\n",
    "\n",
    "#    plt.scatter(X_test[:, np.newaxis, i], Y_test)\n",
    "#    plt.scatter(X_test[:, np.newaxis, i], Y_pred, color='red', linewidth=3)\n",
    "\n",
    "#    plt.xticks(())\n",
    "#    plt.yticks(())\n",
    "\n",
    "#    plt.show()"
   ]
  }
 ],
 "metadata": {
  "interpreter": {
   "hash": "f150cc4428bb0d7e6a2f6c8e7c287746b01988eacc918d11c658827402034e75"
  },
  "kernelspec": {
   "display_name": "Python 3.9.5 64-bit ('AAut': venv)",
   "name": "python3"
  },
  "language_info": {
   "codemirror_mode": {
    "name": "ipython",
    "version": 3
   },
   "file_extension": ".py",
   "mimetype": "text/x-python",
   "name": "python",
   "nbconvert_exporter": "python",
   "pygments_lexer": "ipython3",
   "version": "3.9.5"
  },
  "orig_nbformat": 4
 },
 "nbformat": 4,
 "nbformat_minor": 2
}
