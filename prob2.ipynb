{
 "cells": [
  {
   "cell_type": "code",
   "execution_count": 78,
   "metadata": {},
   "outputs": [],
   "source": [
    "import matplotlib.pyplot as plt\n",
    "import numpy as np\n",
    "from sklearn import linear_model\n",
    "from sklearn.metrics import r2_score\n",
    "from sklearn.metrics import mean_squared_error as MSE\n",
    "from sklearn.model_selection import cross_val_score\n",
    "from sklearn.ensemble import IsolationForest"
   ]
  },
  {
   "cell_type": "code",
   "execution_count": 79,
   "metadata": {},
   "outputs": [],
   "source": [
    "# Load the datasets\n",
    "X = np.load(\"Xtrain_Regression_Part2.npy\")\n",
    "X_TESTE = np.load(\"Xtest_Regression_Part2.npy\")\n",
    "Y = np.load(\"Ytrain_Regression_Part2.npy\")"
   ]
  },
  {
   "cell_type": "markdown",
   "metadata": {},
   "source": [
    "CÓDIGO PARA ENTREGAR"
   ]
  },
  {
   "cell_type": "code",
   "execution_count": 80,
   "metadata": {},
   "outputs": [
    {
     "name": "stdout",
     "output_type": "stream",
     "text": [
      "best is 0.009545727005401334\n"
     ]
    }
   ],
   "source": [
    "model = linear_model.LinearRegression()\n",
    "\n",
    "score = 10\n",
    "\n",
    "X_for = X\n",
    "Y_for = Y\n",
    "removed = 0\n",
    "\n",
    "# train and predict\n",
    "model.fit(X_for, Y_for)\n",
    "\n",
    "Y_pred = model.predict(X_for)\n",
    "\n",
    "diff = abs(Y_for - Y_pred.reshape(Y_for.shape[0], 1))**2\n",
    "\n",
    "while removed < 9:\n",
    "    index = np.where(diff == max(diff))\n",
    "\n",
    "    Y_for = np.delete(Y_for, index, 0)\n",
    "    X_for = np.delete(X_for, index, 0)\n",
    "\n",
    "    # train and predict\n",
    "    model.fit(X_for, Y_for)\n",
    "\n",
    "    Y_pred = model.predict(X_for)\n",
    "\n",
    "    diff = abs(Y_for - Y_pred.reshape(Y_for.shape[0], 1))**2\n",
    "\n",
    "    removed += 1\n",
    "\n",
    "model.fit(X_for, Y_for)\n",
    "Y_pred = model.predict(X_for)\n",
    "\n",
    "current_score = -1 * np.average(\n",
    "    cross_val_score(model, X_for, Y_for, scoring=\"neg_mean_squared_error\", cv=5)\n",
    ")\n",
    "score = min(score, current_score)\n",
    "\n",
    "print(f\"best is {score}\")\n"
   ]
  }
 ],
 "metadata": {
  "interpreter": {
   "hash": "fb6ded15eeb30057ef5fdd512509aebb32ec6af3b3a3a9ee44408e487deba18f"
  },
  "kernelspec": {
   "display_name": "Python 3.9.5 64-bit ('AAut-env': venv)",
   "name": "python3"
  },
  "language_info": {
   "codemirror_mode": {
    "name": "ipython",
    "version": 3
   },
   "file_extension": ".py",
   "mimetype": "text/x-python",
   "name": "python",
   "nbconvert_exporter": "python",
   "pygments_lexer": "ipython3",
   "version": "3.9.5"
  },
  "orig_nbformat": 4
 },
 "nbformat": 4,
 "nbformat_minor": 2
}
