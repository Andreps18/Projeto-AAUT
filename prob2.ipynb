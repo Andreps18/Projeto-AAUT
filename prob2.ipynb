{
 "cells": [
  {
   "cell_type": "code",
   "execution_count": 16,
   "metadata": {},
   "outputs": [],
   "source": [
    "import numpy as np\n",
    "from sklearn import linear_model\n",
    "from sklearn.metrics import mean_squared_error as MSE\n",
    "from sklearn.model_selection import cross_val_score"
   ]
  },
  {
   "cell_type": "code",
   "execution_count": 17,
   "metadata": {},
   "outputs": [],
   "source": [
    "# Load the datasets\n",
    "X = np.load(\"Xtrain_Regression_Part2.npy\")\n",
    "X_TESTE = np.load(\"Xtest_Regression_Part2.npy\")\n",
    "Y = np.load(\"Ytrain_Regression_Part2.npy\")"
   ]
  },
  {
   "cell_type": "markdown",
   "metadata": {},
   "source": [
    "CÓDIGO PARA ENTREGAR"
   ]
  },
  {
   "cell_type": "code",
   "execution_count": 18,
   "metadata": {},
   "outputs": [
    {
     "name": "stdout",
     "output_type": "stream",
     "text": [
      "Index 85: element [-7.15909879] is outlier, dist = [79.00975928]\n",
      "Index 77: element [-0.35163306] is outlier, dist = [26.40160169]\n"
     ]
    }
   ],
   "source": [
    "# model = linear_model.Lasso(alpha=0.002)\n",
    "model = linear_model.LinearRegression()\n",
    "# model = linear_model.Ridge(alpha=0.002)\n",
    "\n",
    "score = 10\n",
    "removed_value = 0\n",
    "\n",
    "removed = 0\n",
    "\n",
    "# train and predict\n",
    "model.fit(X, Y)\n",
    "\n",
    "Y_pred = model.predict(X)\n",
    "\n",
    "diff = (Y - Y_pred.reshape(Y.shape[0], 1)) ** 2\n",
    "avg_diff = np.average(diff)\n",
    "\n",
    "while removed < 9:\n",
    "    max_diff = max(diff)\n",
    "\n",
    "    if max_diff > avg_diff and max_diff > removed_value / 10:\n",
    "        index = np.where(diff == max_diff)\n",
    "\n",
    "        print(f\"Index {index[0][0]}: element {Y[index]} is outlier, dist = {max_diff}\")\n",
    "\n",
    "        removed_value = max_diff\n",
    "\n",
    "        Y = np.delete(Y, index[0][0], 0)\n",
    "        X = np.delete(X, index[0][0], 0)\n",
    "        diff = np.delete(diff, index, 0)\n",
    "\n",
    "        removed += 1\n",
    "\n",
    "    else:\n",
    "        break"
   ]
  },
  {
   "cell_type": "code",
   "execution_count": 19,
   "metadata": {},
   "outputs": [
    {
     "name": "stdout",
     "output_type": "stream",
     "text": [
      "Lasso best error 0.7365628619145077 from alpha=0.0212\n",
      "Ridge best error 0.7463721745588999 from alpha=1.9000000000000001\n",
      "Linear best error 0.7553761337006849\n"
     ]
    }
   ],
   "source": [
    "# FINDING THE BEST ALPHA FOR THE LASSO\n",
    "scores = {}\n",
    "alphas = np.arange(0.0001, 0.2, 0.0001)\n",
    "for alpha in alphas:\n",
    "    scores[str(alpha)] = -1 * np.average(\n",
    "        cross_val_score(\n",
    "            linear_model.Lasso(alpha=alpha),\n",
    "            X,\n",
    "            Y,\n",
    "            scoring=\"neg_mean_squared_error\",\n",
    "            cv=7,\n",
    "        )\n",
    "    )\n",
    "\n",
    "best_lasso = min(list(scores.values()))\n",
    "best_lasso_alpha = list(scores.keys())[list(scores.values()).index(best_lasso)]\n",
    "print(f\"Lasso best error {best_lasso} from alpha={ best_lasso_alpha }\")\n",
    "\n",
    "# And for Ridge\n",
    "scores = {}\n",
    "alphas = np.arange(0, 3, 0.01)\n",
    "for alpha in alphas:\n",
    "    scores[str(alpha)] = -1 * np.average(\n",
    "        cross_val_score(\n",
    "            linear_model.Ridge(alpha=alpha),\n",
    "            X,\n",
    "            Y,\n",
    "            scoring=\"neg_mean_squared_error\",\n",
    "            cv=7,\n",
    "        )\n",
    "    )\n",
    "\n",
    "best_ridge = min(list(scores.values()))\n",
    "best_ridge_alpha = list(scores.keys())[list(scores.values()).index(best_ridge)]\n",
    "print(f\"Ridge best error {best_ridge} from alpha={ best_ridge_alpha }\")\n",
    "\n",
    "#linear regression\n",
    "linear = -1*np.average(cross_val_score(linear_model.LinearRegression(), X, Y, scoring='neg_mean_squared_error', cv=7))\n",
    "print(f\"Linear best error {linear}\")\n",
    "\n",
    "scores = {\"Linear\": linear, \"Lasso\": best_lasso, \"Ridge\": best_ridge}\n",
    "best=min( scores.values() )"
   ]
  },
  {
   "cell_type": "code",
   "execution_count": 20,
   "metadata": {},
   "outputs": [
    {
     "name": "stdout",
     "output_type": "stream",
     "text": [
      "Best model is Lasso, lets predict! 😉\n"
     ]
    }
   ],
   "source": [
    "model_name = list(scores.keys())[list(scores.values()).index(best)]\n",
    "\n",
    "print(f\"Best model is {model_name}, lets predict! \\N{winking face}\")\n",
    "\n",
    "if model_name == \"Linear\":\n",
    "    model = linear_model.LinearRegression()\n",
    "\n",
    "elif model_name == \"Ridge\":\n",
    "    model = linear_model.Ridge(alpha=float(best_ridge_alpha))\n",
    "\n",
    "elif model_name == \"Lasso\":\n",
    "    model = linear_model.Lasso(alpha=float(best_lasso_alpha))\n",
    "\n",
    "else:\n",
    "    exit()\n",
    "\n",
    "\n",
    "# train and predict\n",
    "model.fit(X, Y)\n",
    "\n",
    "Y_pred = model.predict(X_TESTE)\n",
    "\n",
    "with open(\"predictor.npy\", \"wb\") as f:\n",
    "    np.save(f, Y_pred)\n"
   ]
  }
 ],
 "metadata": {
  "interpreter": {
   "hash": "fb6ded15eeb30057ef5fdd512509aebb32ec6af3b3a3a9ee44408e487deba18f"
  },
  "kernelspec": {
   "display_name": "Python 3.9.5 64-bit ('AAut-env': venv)",
   "name": "python3"
  },
  "language_info": {
   "codemirror_mode": {
    "name": "ipython",
    "version": 3
   },
   "file_extension": ".py",
   "mimetype": "text/x-python",
   "name": "python",
   "nbconvert_exporter": "python",
   "pygments_lexer": "ipython3",
   "version": "3.9.5"
  },
  "orig_nbformat": 4
 },
 "nbformat": 4,
 "nbformat_minor": 2
}
