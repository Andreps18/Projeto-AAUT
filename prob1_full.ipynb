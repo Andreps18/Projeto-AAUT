{
 "cells": [
  {
   "cell_type": "code",
   "execution_count": 1,
   "metadata": {},
   "outputs": [],
   "source": [
    "import matplotlib.pyplot as plt\n",
    "import numpy as np\n",
    "from sklearn import linear_model\n",
    "from sklearn.metrics import r2_score\n",
    "from sklearn.metrics import mean_squared_error as MSE\n",
    "from sklearn.model_selection import cross_val_score"
   ]
  },
  {
   "cell_type": "code",
   "execution_count": 2,
   "metadata": {},
   "outputs": [],
   "source": [
    "# Load the datasets\n",
    "X = np.load(\"Xtrain_Regression_Part1.npy\")\n",
    "X_TESTE = np.load(\"Xtest_Regression_Part1.npy\")\n",
    "Y = np.load(\"Ytrain_Regression_Part1.npy\")\n",
    "\n",
    "X_test = X[-10:] #Select the last 20 points for testing\n",
    "X_train = X[:-10] #Select the 80 1st points for training\n",
    "\n",
    "#Same thing for Y\n",
    "Y_test = Y[-10:]\n",
    "Y_train = Y[:-10]"
   ]
  },
  {
   "cell_type": "markdown",
   "metadata": {},
   "source": [
    "REGRESSÃO LINEAR"
   ]
  },
  {
   "cell_type": "code",
   "execution_count": 3,
   "metadata": {},
   "outputs": [
    {
     "name": "stdout",
     "output_type": "stream",
     "text": [
      "MSE score (LINEAR REGRESSION) 0.02445369797937662\n"
     ]
    }
   ],
   "source": [
    "# Create linear regression object\n",
    "LM_model = linear_model.LinearRegression()\n",
    "\n",
    "# Train the model using the training sets\n",
    "LM_model.fit(X_train, Y_train)\n",
    "\n",
    "# Make predictions using the testing set\n",
    "Y_pred = LM_model.predict(X_test)\n",
    "\n",
    "linear_score = MSE(Y_test,Y_pred)\n",
    "\n",
    "print(f\"MSE score (LINEAR REGRESSION) {linear_score}\")"
   ]
  },
  {
   "cell_type": "markdown",
   "metadata": {},
   "source": [
    "RIDGE REGRESSION"
   ]
  },
  {
   "cell_type": "code",
   "execution_count": 18,
   "metadata": {},
   "outputs": [
    {
     "name": "stdout",
     "output_type": "stream",
     "text": [
      "MSE score (RIDGE REGRESSION) 0.02445471386390995\n"
     ]
    }
   ],
   "source": [
    "R_model = linear_model.Ridge(alpha=0.001)\n",
    "R_model.fit(X_train, Y_train)\n",
    "\n",
    "Y_pred = R_model.predict(X_test)\n",
    "\n",
    "ridge_score = MSE(Y_test,Y_pred)\n",
    "\n",
    "print(f\"MSE score (RIDGE REGRESSION) {ridge_score}\")"
   ]
  },
  {
   "cell_type": "markdown",
   "metadata": {},
   "source": [
    "LASSO REGRESSION"
   ]
  },
  {
   "cell_type": "code",
   "execution_count": 19,
   "metadata": {},
   "outputs": [
    {
     "name": "stdout",
     "output_type": "stream",
     "text": [
      "MSE score (LASSO REGRESSION) 0.024159475444619487\n"
     ]
    }
   ],
   "source": [
    "L_model = linear_model.Lasso(alpha=0.001)\n",
    "L_model.fit(X_train, Y_train)\n",
    "\n",
    "Y_pred = L_model.predict(X_test)\n",
    "\n",
    "lasso_score = MSE(Y_test, Y_pred)\n",
    "print(f\"MSE score (LASSO REGRESSION) {lasso_score}\")"
   ]
  },
  {
   "cell_type": "code",
   "execution_count": 20,
   "metadata": {},
   "outputs": [
    {
     "name": "stdout",
     "output_type": "stream",
     "text": [
      "Lasso\n"
     ]
    }
   ],
   "source": [
    "best = min(linear_score, ridge_score, lasso_score)\n",
    "if best==linear_score:\n",
    "    print(\"Linear\")\n",
    "elif best==ridge_score:\n",
    "    print(\"Ridge\")\n",
    "elif best==lasso_score:\n",
    "    print(\"Lasso\")"
   ]
  },
  {
   "cell_type": "markdown",
   "metadata": {},
   "source": [
    "Ridge Regression with cross validation ??"
   ]
  },
  {
   "cell_type": "code",
   "execution_count": 21,
   "metadata": {},
   "outputs": [
    {
     "name": "stdout",
     "output_type": "stream",
     "text": [
      "Best alpha 9.989999999999963e-07 -- MSE: -0.015574991830295504\n"
     ]
    }
   ],
   "source": [
    "alphas = np.arange(0.0000001, 0.000001, 0.000000001)\n",
    "# alphas = (0.1, 1, 10)\n",
    "Ridge_cv = linear_model.RidgeCV(alphas=(alphas), scoring='neg_mean_squared_error')\n",
    "model = Ridge_cv.fit(X, Y)\n",
    "print(f\"Best alpha {model.alpha_} -- MSE: {model.best_score_}\")"
   ]
  },
  {
   "cell_type": "markdown",
   "metadata": {},
   "source": [
    "Lasso Regression with cross validation"
   ]
  },
  {
   "cell_type": "code",
   "execution_count": 23,
   "metadata": {},
   "outputs": [
    {
     "name": "stdout",
     "output_type": "stream",
     "text": [
      "Best alpha 9.89999999999996e-07\n"
     ]
    }
   ],
   "source": [
    "alphas = np.arange(0.0000001, 0.000001, 0.000000001)\n",
    "# alphas = (0.1, 1, 10)\n",
    "Lasso_cv = linear_model.LassoCV(alphas=(alphas), cv=10)\n",
    "model = Lasso_cv.fit(X, np.ravel(Y))\n",
    "print(f\"Best alpha {model.alpha_}\")"
   ]
  },
  {
   "cell_type": "markdown",
   "metadata": {},
   "source": [
    "CROSS VALIDATION"
   ]
  },
  {
   "cell_type": "code",
   "execution_count": 26,
   "metadata": {},
   "outputs": [
    {
     "name": "stdout",
     "output_type": "stream",
     "text": [
      "LINEAR: 0.016729948323158324 \n",
      "RIDGE: 0.016729948323158324 \n",
      "LASSO: 0.016729948323158324 \n",
      "True\n"
     ]
    }
   ],
   "source": [
    "scores = {}\n",
    "\n",
    "#first the linear regression\n",
    "scores['Linear'] = -1*cross_val_score(linear_model.LinearRegression(), X, Y, scoring='neg_mean_squared_error', cv=5)\n",
    "scores['Linear'] = np.average(scores['Linear'])\n",
    "\n",
    "scores['Ridge'] = -1*cross_val_score(linear_model.Ridge(alpha=0.001), X, Y, scoring='neg_mean_squared_error', cv=5)\n",
    "scores['Ridge'] = np.average(scores['Linear'])\n",
    "\n",
    "scores['Lasso'] = -1*cross_val_score(linear_model.Lasso(alpha=0.001), X, Y, scoring='neg_mean_squared_error', cv=5)\n",
    "scores['Lasso'] = np.average(scores['Linear'])\n",
    "\n",
    "# for alpha in np.arange(0.0000001, 0.000001, 0.000000001):\n",
    "#     names = (f\"Ridge-{alpha}\", f\"Lasso-{alpha}\")\n",
    "#     models = (linear_model.Ridge(alpha=alpha), linear_model.Lasso(alpha=alpha))\n",
    "    \n",
    "#     for model, name in zip(models, names):\n",
    "#         score = cross_val_score(model, X, Y, scoring='neg_root_mean_squared_error', cv=10)\n",
    "\n",
    "#         if \"Ridge\" in name:\n",
    "#             ridge_scores[name] = -1* np.average(score)\n",
    "#         else:\n",
    "#             lasso_scores[name] = -1* np.average(score)\n",
    "\n",
    "\n",
    "print(f\"LINEAR: {scores['Linear']} \")\n",
    "print(f\"RIDGE: {scores['Ridge']} \")\n",
    "print(f\"LASSO: {scores['Lasso']} \")\n",
    "\n",
    "# np.min(np.array( list(ridge_scores.values()) ))\n",
    "\n",
    "# print(f\"RIDGE: {np.max(  )}\")\n",
    "\n",
    "\n",
    "print(scores['Linear']==scores['Ridge']==scores['Lasso'])"
   ]
  },
  {
   "cell_type": "code",
   "execution_count": 27,
   "metadata": {},
   "outputs": [
    {
     "name": "stdout",
     "output_type": "stream",
     "text": [
      "(1000, 1)\n"
     ]
    }
   ],
   "source": [
    "model = linear_model.LinearRegression()\n",
    "\n",
    "model.fit(X, Y)\n",
    "\n",
    "Y_pred = model.predict(X_TESTE)\n",
    "\n",
    "print(Y_pred.shape)\n",
    "\n",
    "with open('Ytest_Regression_Part1.npy', 'wb') as f:\n",
    "    np.save(f, Y_pred)"
   ]
  }
 ],
 "metadata": {
  "interpreter": {
   "hash": "f150cc4428bb0d7e6a2f6c8e7c287746b01988eacc918d11c658827402034e75"
  },
  "kernelspec": {
   "display_name": "Python 3.9.5 64-bit ('AAut': venv)",
   "name": "python3"
  },
  "language_info": {
   "codemirror_mode": {
    "name": "ipython",
    "version": 3
   },
   "file_extension": ".py",
   "mimetype": "text/x-python",
   "name": "python",
   "nbconvert_exporter": "python",
   "pygments_lexer": "ipython3",
   "version": "3.9.5"
  },
  "orig_nbformat": 4
 },
 "nbformat": 4,
 "nbformat_minor": 2
}
