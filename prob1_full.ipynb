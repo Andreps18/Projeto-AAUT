{
 "cells": [
  {
   "cell_type": "code",
   "execution_count": 61,
   "metadata": {},
   "outputs": [],
   "source": [
    "import matplotlib.pyplot as plt\n",
    "import numpy as np\n",
    "from sklearn import linear_model\n",
    "from sklearn.metrics import r2_score\n",
    "from sklearn.metrics import mean_squared_error as MSE\n",
    "from sklearn.model_selection import cross_val_score"
   ]
  },
  {
   "cell_type": "code",
   "execution_count": 62,
   "metadata": {},
   "outputs": [],
   "source": [
    "# Load the datasets\n",
    "X = np.load(\"Xtrain_Regression_Part1.npy\")\n",
    "X_TESTE = np.load(\"Xtest_Regression_Part1.npy\")\n",
    "Y = np.load(\"Ytrain_Regression_Part1.npy\")\n",
    "\n",
    "X_test = X[-20:] #Select the last 20 points for testing\n",
    "X_train = X[:-20] #Select the 80 1st points for training\n",
    "\n",
    "#Same thing for Y\n",
    "Y_test = Y[-20:]\n",
    "Y_train = Y[:-20]"
   ]
  },
  {
   "cell_type": "code",
   "execution_count": 63,
   "metadata": {},
   "outputs": [
    {
     "name": "stdout",
     "output_type": "stream",
     "text": [
      "MSE score (LINEAR REGRESSION) 0.02308231170738404\n",
      "MSE score (RIDGE REGRESSION) 0.02308821238419561\n",
      "MSE score (LASSO REGRESSION) 0.022733795486092424\n",
      "Best is Lasso with MSE: 0.022733795486092424\n"
     ]
    }
   ],
   "source": [
    "# Create linear regression object\n",
    "LM_model = linear_model.LinearRegression()\n",
    "\n",
    "# Train the model using the training sets\n",
    "LM_model.fit(X_train, Y_train)\n",
    "\n",
    "# Make predictions using the testing set\n",
    "Y_pred = LM_model.predict(X_test)\n",
    "\n",
    "linear_score = MSE(Y_test,Y_pred)\n",
    "\n",
    "print(f\"MSE score (LINEAR REGRESSION) {linear_score}\")\n",
    "\n",
    "R_model = linear_model.Ridge(alpha=0.001)\n",
    "R_model.fit(X_train, Y_train)\n",
    "\n",
    "Y_pred = R_model.predict(X_test)\n",
    "\n",
    "ridge_score = MSE(Y_test,Y_pred)\n",
    "\n",
    "print(f\"MSE score (RIDGE REGRESSION) {ridge_score}\")\n",
    "\n",
    "L_model = linear_model.Lasso(alpha=0.0035)\n",
    "L_model.fit(X_train, Y_train)\n",
    "\n",
    "Y_pred = L_model.predict(X_test)\n",
    "\n",
    "lasso_score = MSE(Y_test, Y_pred)\n",
    "print(f\"MSE score (LASSO REGRESSION) {lasso_score}\")\n",
    "\n",
    "best = min(linear_score, ridge_score, lasso_score)\n",
    "\n",
    "print(\"Best is \", end='')\n",
    "if best==linear_score:\n",
    "    print(\"Linear \", end='')\n",
    "elif best==ridge_score:\n",
    "    print(\"Ridge \", end='')\n",
    "elif best==lasso_score:\n",
    "    print(\"Lasso \", end='')\n",
    "print(f\"with MSE: {best}\")"
   ]
  },
  {
   "cell_type": "markdown",
   "metadata": {},
   "source": [
    "Ridge Regression with cross validation ??"
   ]
  },
  {
   "cell_type": "code",
   "execution_count": 64,
   "metadata": {},
   "outputs": [],
   "source": [
    "# # alphas = np.arange(0.0000001, 0.000001, 0.000000001)\n",
    "# # alphas = (0.0001, 0.001, 0.035, 0.1, 1, 10)\n",
    "# alphas = np.arange(0.0001, 0.5, 0.0001) \n",
    "# print(alphas.shape)\n",
    "# print((0.035 in alphas))\n",
    "# Ridge_cv = linear_model.RidgeCV(alphas=(alphas), scoring='neg_mean_squared_error', cv=5)\n",
    "# model = Ridge_cv.fit(X, Y)\n",
    "# print(f\"Best alpha {model.alpha_} -- MSE: {model.best_score_}\")"
   ]
  },
  {
   "cell_type": "markdown",
   "metadata": {},
   "source": [
    "Lasso Regression with cross validation"
   ]
  },
  {
   "cell_type": "code",
   "execution_count": 65,
   "metadata": {},
   "outputs": [],
   "source": [
    "#alphas = np.arange(0.0000001, 0.000001, 0.000000001)\n",
    "# alphas = np.array([0.001, 0.002, 0.003, 0.004, 0.005])\n",
    "# alphas = np.arange(0.0001, 0.5, 0.00001) \n",
    "# print(alphas)\n",
    "# print((0.035 in alphas))\n",
    "# Lasso_cv = linear_model.LassoCV(alphas=(alphas), cv=5)\n",
    "# model = Lasso_cv.fit(X, np.ravel(Y))\n",
    "# print(f\"Best alpha {model.alpha_}\")"
   ]
  },
  {
   "cell_type": "markdown",
   "metadata": {},
   "source": [
    "CROSS VALIDATION"
   ]
  },
  {
   "cell_type": "code",
   "execution_count": 66,
   "metadata": {},
   "outputs": [
    {
     "name": "stdout",
     "output_type": "stream",
     "text": [
      "Lasso best error 0.016713602190598364 from alpha=0.0002\n",
      "Ridge best error 0.016730181681383776 from alpha=0.0001\n"
     ]
    }
   ],
   "source": [
    "#FINDING THE BEST ALPHA FOR THE LASSO\n",
    "alphas = np.arange(0.0001, 0.2, 0.0001)\n",
    "scores = {}\n",
    "\n",
    "for alpha in alphas:\n",
    "    scores[str(alpha)] = np.average(-1*cross_val_score(linear_model.Lasso(alpha=alpha), X, Y, scoring='neg_mean_squared_error', cv=5))\n",
    "\n",
    "best=min( list(scores.values()) )\n",
    "print(f\"Lasso best error {best} from alpha={ list(scores.keys())[ list(scores.values()).index(best) ] }\")\n",
    "\n",
    "#And for Ridge\n",
    "for alpha in alphas:\n",
    "    scores[str(alpha)] = np.average(-1*cross_val_score(linear_model.Ridge(alpha=alpha), X, Y, scoring='neg_mean_squared_error', cv=5))\n",
    "\n",
    "best=min( list(scores.values()) )\n",
    "print(f\"Ridge best error {best} from alpha={ list(scores.keys())[ list(scores.values()).index(best) ] }\")"
   ]
  },
  {
   "cell_type": "code",
   "execution_count": 67,
   "metadata": {},
   "outputs": [
    {
     "name": "stdout",
     "output_type": "stream",
     "text": [
      "LINEAR: 0.016729948323158324 \n",
      "RIDGE: 0.016730181681383776 \n",
      "LASSO: 0.01710049693686596 \n",
      "LASSO1: 0.016713602190598364 \n",
      "best is 0.016713602190598364 from Lasso1\n"
     ]
    }
   ],
   "source": [
    "#testing with the previous \"best\" alpha value\n",
    "\n",
    "scores = {}\n",
    "\n",
    "#first the linear regression\n",
    "scores['Linear'] = -1*cross_val_score(linear_model.LinearRegression(), X, Y, scoring='neg_mean_squared_error', cv=5)\n",
    "scores['Linear'] = np.average(scores['Linear'])\n",
    "\n",
    "#0.0035\n",
    "scores['Ridge'] = -1*cross_val_score(linear_model.Ridge(alpha=0.0001), X, Y, scoring='neg_mean_squared_error', cv=5)\n",
    "scores['Ridge'] = np.average(scores['Ridge'])\n",
    "\n",
    "#RUCA\n",
    "scores['Lasso'] = -1*cross_val_score(linear_model.Lasso(alpha=0.0035), X, Y, scoring='neg_mean_squared_error', cv=5)\n",
    "scores['Lasso'] = np.average(scores['Lasso'])\n",
    "\n",
    "scores['Lasso1'] = -1*cross_val_score(linear_model.Lasso(alpha=0.0002), X, Y, scoring='neg_mean_squared_error', cv=5)\n",
    "scores['Lasso1'] = np.average(scores['Lasso1'])\n",
    "\n",
    "print(f\"LINEAR: {scores['Linear']} \")\n",
    "print(f\"RIDGE: {scores['Ridge']} \")\n",
    "print(f\"LASSO: {scores['Lasso']} \")\n",
    "print(f\"LASSO1: {scores['Lasso1']} \")\n",
    "\n",
    "best=min( scores.values() )\n",
    "print(f\"best is {best} from { list(scores.keys())[ list(scores.values()).index(best) ] }\")"
   ]
  },
  {
   "cell_type": "markdown",
   "metadata": {},
   "source": [
    "CÓDIGO PARA ENTREGAR"
   ]
  },
  {
   "cell_type": "code",
   "execution_count": 70,
   "metadata": {},
   "outputs": [],
   "source": [
    "model = linear_model.Lasso(alpha=0.0002)\n",
    "\n",
    "model.fit(X, Y)\n",
    "\n",
    "Y_pred = model.predict(X_TESTE)\n",
    "\n",
    "with open('Ytest_Regression_Part1.npy', 'wb') as f:\n",
    "    np.save(f, Y_pred)"
   ]
  }
 ],
 "metadata": {
  "interpreter": {
   "hash": "f150cc4428bb0d7e6a2f6c8e7c287746b01988eacc918d11c658827402034e75"
  },
  "kernelspec": {
   "display_name": "Python 3.9.5 64-bit ('AAut': venv)",
   "name": "python3"
  },
  "language_info": {
   "codemirror_mode": {
    "name": "ipython",
    "version": 3
   },
   "file_extension": ".py",
   "mimetype": "text/x-python",
   "name": "python",
   "nbconvert_exporter": "python",
   "pygments_lexer": "ipython3",
   "version": "3.9.5"
  },
  "orig_nbformat": 4
 },
 "nbformat": 4,
 "nbformat_minor": 2
}
