{
 "cells": [
  {
   "cell_type": "code",
   "execution_count": 31,
   "metadata": {},
   "outputs": [],
   "source": [
    "import numpy as np\n",
    "from matplotlib import pyplot as plt\n",
    "import torch\n",
    "from torch import nn\n",
    "import torch.nn.functional as F\n",
    "from sklearn.model_selection import train_test_split\n",
    "\n",
    "from torch.utils.data import DataLoader, TensorDataset\n",
    "\n",
    "from torchsummary import summary\n",
    "\n",
    "import time\n",
    "import random\n"
   ]
  },
  {
   "cell_type": "code",
   "execution_count": 32,
   "metadata": {},
   "outputs": [],
   "source": [
    "# train data\n",
    "X_TRAIN = np.load(\"Xtrain_Classification_Part1.npy\")\n",
    "Y_TRAIN = np.load(\"Ytrain_Classification_Part1.npy\")\n",
    "\n",
    "# test data\n",
    "X_TEST = np.load(\"Xtest_Classification_Part1.npy\")\n"
   ]
  },
  {
   "cell_type": "code",
   "execution_count": 33,
   "metadata": {},
   "outputs": [],
   "source": [
    "# reshape train data and convert to tensor\n",
    "X_TRAIN = X_TRAIN.reshape(X_TRAIN.shape[0], 1, 50, 50) / 255\n",
    "Y_TRAIN = Y_TRAIN.reshape(Y_TRAIN.shape[0], 1)\n",
    "\n",
    "X_TRAIN_tensor = torch.Tensor(X_TRAIN).float()\n",
    "Y_TRAIN_tensor = torch.Tensor(Y_TRAIN).float()\n",
    "\n",
    "# reshape test data and convert to tensor\n",
    "X_TEST = X_TEST.reshape(X_TEST.shape[0], 1, 50, 50) / 255\n",
    "\n",
    "X_TEST_tensor = torch.Tensor(X_TRAIN).float()"
   ]
  },
  {
   "cell_type": "code",
   "execution_count": 34,
   "metadata": {},
   "outputs": [],
   "source": [
    "# for i in range(1, 10):\n",
    "#   if Y_TRAIN[i] ==1:\n",
    "#     print(\"female\", Y_TRAIN[i])\n",
    "#   else:\n",
    "#     print(\"male\", Y_TRAIN[i])\n",
    "    \n",
    "#   plt.imshow(X_TRAIN[i].reshape(50,50,1))\n",
    "#   plt.show()\n",
    "# #   time.sleep(1)"
   ]
  },
  {
   "cell_type": "code",
   "execution_count": 35,
   "metadata": {},
   "outputs": [],
   "source": [
    "# split the data\n",
    "trainX, devX, trainY, devY = train_test_split(X_TRAIN_tensor, Y_TRAIN_tensor)\n",
    "\n",
    "# convert to dataloader\n",
    "trainSet = TensorDataset(trainX, trainY)\n",
    "devSet = TensorDataset(devX, devY)\n",
    "\n",
    "trainLoader = DataLoader(trainSet, batch_size=64)\n",
    "devLoader = DataLoader(devSet, batch_size=64)\n"
   ]
  },
  {
   "cell_type": "code",
   "execution_count": 36,
   "metadata": {},
   "outputs": [],
   "source": [
    "def createGervasio():\n",
    "    class gervasio(nn.Module):\n",
    "        def __init__(self) -> None:\n",
    "            super().__init__()\n",
    "\n",
    "            self.conv1 = nn.Conv2d(1, 16, kernel_size=4, stride=1, padding=1)\n",
    "            size = np.floor((np.floor((50 + 2 * 1 -4) / 1) + 1) / 2)\n",
    "\n",
    "            self.conv2 = nn.Conv2d(16, 32, kernel_size=4, stride=1, padding=1)\n",
    "            size = np.floor((np.floor((size + 2 * 1 - 4) / 1) + 1) / 2)\n",
    "\n",
    "            expectSize = np.floor((size + 2 * 0 - 1) / 1) + 1\n",
    "            expectSize = 32 * int(expectSize ** 2)\n",
    "\n",
    "            self.fc1 = nn.Linear(expectSize, 64)\n",
    "\n",
    "            self.out = nn.Linear(64, 1)\n",
    "\n",
    "            # size = np.floor((np.floor((50 + 2 * 1 - 3) / 1) + 1))\n",
    "            # size = np.floor((np.floor((size + 2 * 1 - 3) / 1) + 1) / 2)\n",
    "            # size = np.floor((np.floor((size + 2 * 1 - 3) / 1) + 1))\n",
    "            # size = np.floor((np.floor((size + 2 * 1 - 3) / 1) + 1) / 2)\n",
    "            # size = np.floor((np.floor((size + 2 * 1 - 3) / 1) + 1))\n",
    "            # size = np.floor((np.floor((size + 2 * 1 - 3) / 1) + 1) / 2)\n",
    "            # size = np.floor((np.floor((size + 2 * 1 - 3) / 1) + 1))\n",
    "            # size = np.floor((np.floor((size + 2 * 1 - 3) / 1) + 1) / 2)\n",
    "            # expectSize = np.floor((size + 2 * 0 - 1) / 1) + 1\n",
    "            # expectSize = 512 * int(expectSize ** 2)\n",
    "\n",
    "            # self.network = nn.Sequential(\n",
    "            #     nn.Conv2d(1,32,kernel_size = 3, stride = 1, padding = 1),\n",
    "            #     nn.ReLU(),\n",
    "            #     nn.Conv2d(32,64,kernel_size = 3, stride = 1 ,padding = 1),\n",
    "            #     nn.ReLU(),\n",
    "            #     nn.MaxPool2d(2,2),    #out: 64 x 32 x 32\n",
    "                \n",
    "            #     nn.Conv2d(64,128,kernel_size = 3, stride = 1 , padding = 1),\n",
    "            #     nn.ReLU(),\n",
    "            #     nn.Conv2d(128,128,kernel_size = 3, stride = 1 ,padding = 1),\n",
    "            #     nn.ReLU(),\n",
    "            #     nn.MaxPool2d(2,2),    #out : 128 x 16 x 16\n",
    "                \n",
    "            #     nn.Conv2d(128,256,kernel_size = 3, stride = 1, padding = 1),\n",
    "            #     nn.ReLU(),\n",
    "            #     nn.Conv2d(256,256,kernel_size = 3, stride = 1 ,padding = 1),\n",
    "            #     nn.ReLU(),\n",
    "            #     nn.MaxPool2d(2,2),    #out: 256 x 8 x 8\n",
    "                \n",
    "            #     nn.Conv2d(256,512,kernel_size = 3, stride = 1, padding = 1),\n",
    "            #     nn.ReLU(),\n",
    "            #     nn.Conv2d(512,512,kernel_size = 3, stride = 1 ,padding = 1),\n",
    "            #     nn.ReLU(),\n",
    "            #     nn.MaxPool2d(2,2),   #out : 512 x 8 x 8\n",
    "                \n",
    "            #     nn.Flatten(),\n",
    "            #     nn.Linear(expectSize,8192),\n",
    "            #     nn.ReLU(),\n",
    "                        \n",
    "            #     nn.Linear(8192,1024),\n",
    "            #     nn.ReLU(),\n",
    "                \n",
    "            #     nn.Linear(1024,512),\n",
    "            #     nn.ReLU(),\n",
    "\n",
    "            #     nn.Linear(512,128),\n",
    "            #     nn.ReLU(),\n",
    "\n",
    "            #     nn.Linear(128,32),\n",
    "            #     nn.ReLU(),\n",
    "\n",
    "            #     nn.Linear(32,1),\n",
    "            #     nn.Sigmoid()\n",
    "            # )\n",
    "\n",
    "        def forward(self, x):\n",
    "            x = F.relu(F.avg_pool2d(self.conv1(x), 2))\n",
    "\n",
    "            x = F.relu(F.avg_pool2d(self.conv2(x), 2))\n",
    "\n",
    "            nUnits = x.shape.numel() / x.shape[0]\n",
    "            x = x.view(-1, int(nUnits))\n",
    "\n",
    "            x = F.relu(self.fc1(x))\n",
    "\n",
    "            x = torch.sigmoid(self.out(x))\n",
    "\n",
    "            return x\n",
    "\n",
    "            # return self.network(x)\n",
    "\n",
    "    # criar o gervasio\n",
    "    Gervasio = gervasio()\n",
    "\n",
    "    # loss func\n",
    "    lossF = nn.BCELoss()  # binary cross entropy\n",
    "\n",
    "    optimizer = torch.optim.Adam(Gervasio.parameters(), lr=0.001)\n",
    "\n",
    "    return Gervasio, lossF, optimizer\n"
   ]
  },
  {
   "cell_type": "code",
   "execution_count": 37,
   "metadata": {},
   "outputs": [],
   "source": [
    "def trainGervasio():\n",
    "    # number of epochs\n",
    "    numepochs = 12\n",
    "\n",
    "    # create a new model\n",
    "    Gervasio, lossfun, optimizer = createGervasio()\n",
    "\n",
    "    # initialize losses and accuracies\n",
    "    trainLosses = torch.zeros(numepochs)\n",
    "    trainAcc = torch.zeros(numepochs)\n",
    "    devLosses = torch.zeros(numepochs)\n",
    "    devAcc = torch.zeros(numepochs)\n",
    "\n",
    "    # loop over epochs\n",
    "    for epochi in range(numepochs):\n",
    "\n",
    "        # loop over training data batches\n",
    "        Gervasio.train()\n",
    "        batchAcc = []\n",
    "        batchLoss = []\n",
    "        for X, Y in trainLoader:\n",
    "\n",
    "            # forward pass and loss\n",
    "            Y_pred = Gervasio(X)\n",
    "            loss = lossfun(Y_pred, Y)\n",
    "\n",
    "            # backprop\n",
    "            optimizer.zero_grad()\n",
    "            loss.backward()\n",
    "            optimizer.step()\n",
    "\n",
    "            # loss from this batch\n",
    "            batchLoss.append(loss.item())\n",
    "\n",
    "            # compute accuracy\n",
    "            match = ((Y_pred >= 0.5).float() == Y).float()\n",
    "            batchAcc.append(match)  # add to list of accuracies\n",
    "\n",
    "        # now that we've trained through the batches, get their average training accuracy\n",
    "        trainAcc[epochi] = 100*np.mean(np.array(batchAcc[0].tolist()))\n",
    "\n",
    "        # and get average losses across the batches\n",
    "        trainLosses[epochi] = np.mean(batchLoss)\n",
    "        \n",
    "        # test accuracy\n",
    "        Gervasio.eval()\n",
    "        batchAcc = []\n",
    "        batchLoss = []\n",
    "        for X, Y in devLoader:\n",
    "            with torch.no_grad():  # deactivates autograd\n",
    "                Y_pred = Gervasio(X)\n",
    "\n",
    "            loss = lossfun(Y_pred, Y)\n",
    "            batchLoss.append(loss.item())\n",
    "\n",
    "            # compute accuracy\n",
    "            match = ((Y_pred >= 0.5).float() == Y).float()\n",
    "            batchAcc.append(match)  # add to list of accuracies\n",
    "            \n",
    "        devAcc[epochi] = 100*np.mean(batchAcc[0].tolist())\n",
    "\n",
    "        devLosses[epochi] = np.mean(batchLoss)\n",
    "\n",
    "    # function output\n",
    "    return trainAcc, devAcc, trainLosses, devLosses, Gervasio\n"
   ]
  },
  {
   "cell_type": "code",
   "execution_count": 38,
   "metadata": {},
   "outputs": [
    {
     "name": "stdout",
     "output_type": "stream",
     "text": [
      "----------------------------------------------------------------\n",
      "        Layer (type)               Output Shape         Param #\n",
      "================================================================\n",
      "            Conv2d-1           [-1, 16, 49, 49]             272\n",
      "            Conv2d-2           [-1, 32, 23, 23]           8,224\n",
      "            Linear-3                   [-1, 64]         247,872\n",
      "            Linear-4                    [-1, 1]              65\n",
      "================================================================\n",
      "Total params: 256,433\n",
      "Trainable params: 256,433\n",
      "Non-trainable params: 0\n",
      "----------------------------------------------------------------\n",
      "Input size (MB): 0.01\n",
      "Forward/backward pass size (MB): 0.42\n",
      "Params size (MB): 0.98\n",
      "Estimated Total Size (MB): 1.41\n",
      "----------------------------------------------------------------\n"
     ]
    }
   ],
   "source": [
    "Gervasio, _, _ = createGervasio()\n",
    "\n",
    "summary(Gervasio, (1,50,50))"
   ]
  },
  {
   "cell_type": "code",
   "execution_count": 39,
   "metadata": {},
   "outputs": [
    {
     "ename": "KeyboardInterrupt",
     "evalue": "",
     "output_type": "error",
     "traceback": [
      "\u001b[0;31m---------------------------------------------------------------------------\u001b[0m",
      "\u001b[0;31mKeyboardInterrupt\u001b[0m                         Traceback (most recent call last)",
      "\u001b[0;32m/tmp/ipykernel_15325/3250594467.py\u001b[0m in \u001b[0;36m<module>\u001b[0;34m\u001b[0m\n\u001b[1;32m      3\u001b[0m \u001b[0mnp\u001b[0m\u001b[0;34m.\u001b[0m\u001b[0mrandom\u001b[0m\u001b[0;34m.\u001b[0m\u001b[0mseed\u001b[0m\u001b[0;34m(\u001b[0m\u001b[0;36m0\u001b[0m\u001b[0;34m)\u001b[0m\u001b[0;34m\u001b[0m\u001b[0;34m\u001b[0m\u001b[0m\n\u001b[1;32m      4\u001b[0m \u001b[0;34m\u001b[0m\u001b[0m\n\u001b[0;32m----> 5\u001b[0;31m \u001b[0mtrainAcc\u001b[0m\u001b[0;34m,\u001b[0m \u001b[0mdevAcc\u001b[0m\u001b[0;34m,\u001b[0m \u001b[0mtrainLosses\u001b[0m\u001b[0;34m,\u001b[0m \u001b[0mdevLosses\u001b[0m\u001b[0;34m,\u001b[0m \u001b[0mGervasio\u001b[0m \u001b[0;34m=\u001b[0m \u001b[0mtrainGervasio\u001b[0m\u001b[0;34m(\u001b[0m\u001b[0;34m)\u001b[0m\u001b[0;34m\u001b[0m\u001b[0;34m\u001b[0m\u001b[0m\n\u001b[0m",
      "\u001b[0;32m/tmp/ipykernel_15325/2936577162.py\u001b[0m in \u001b[0;36mtrainGervasio\u001b[0;34m()\u001b[0m\n\u001b[1;32m     22\u001b[0m \u001b[0;34m\u001b[0m\u001b[0m\n\u001b[1;32m     23\u001b[0m             \u001b[0;31m# forward pass and loss\u001b[0m\u001b[0;34m\u001b[0m\u001b[0;34m\u001b[0m\u001b[0;34m\u001b[0m\u001b[0m\n\u001b[0;32m---> 24\u001b[0;31m             \u001b[0mY_pred\u001b[0m \u001b[0;34m=\u001b[0m \u001b[0mGervasio\u001b[0m\u001b[0;34m(\u001b[0m\u001b[0mX\u001b[0m\u001b[0;34m)\u001b[0m\u001b[0;34m\u001b[0m\u001b[0;34m\u001b[0m\u001b[0m\n\u001b[0m\u001b[1;32m     25\u001b[0m             \u001b[0mloss\u001b[0m \u001b[0;34m=\u001b[0m \u001b[0mlossfun\u001b[0m\u001b[0;34m(\u001b[0m\u001b[0mY_pred\u001b[0m\u001b[0;34m,\u001b[0m \u001b[0mY\u001b[0m\u001b[0;34m)\u001b[0m\u001b[0;34m\u001b[0m\u001b[0;34m\u001b[0m\u001b[0m\n\u001b[1;32m     26\u001b[0m \u001b[0;34m\u001b[0m\u001b[0m\n",
      "\u001b[0;32m~/Documents/AAut/lib/python3.9/site-packages/torch/nn/modules/module.py\u001b[0m in \u001b[0;36m_call_impl\u001b[0;34m(self, *input, **kwargs)\u001b[0m\n\u001b[1;32m   1100\u001b[0m         if not (self._backward_hooks or self._forward_hooks or self._forward_pre_hooks or _global_backward_hooks\n\u001b[1;32m   1101\u001b[0m                 or _global_forward_hooks or _global_forward_pre_hooks):\n\u001b[0;32m-> 1102\u001b[0;31m             \u001b[0;32mreturn\u001b[0m \u001b[0mforward_call\u001b[0m\u001b[0;34m(\u001b[0m\u001b[0;34m*\u001b[0m\u001b[0minput\u001b[0m\u001b[0;34m,\u001b[0m \u001b[0;34m**\u001b[0m\u001b[0mkwargs\u001b[0m\u001b[0;34m)\u001b[0m\u001b[0;34m\u001b[0m\u001b[0;34m\u001b[0m\u001b[0m\n\u001b[0m\u001b[1;32m   1103\u001b[0m         \u001b[0;31m# Do not call functions when jit is used\u001b[0m\u001b[0;34m\u001b[0m\u001b[0;34m\u001b[0m\u001b[0;34m\u001b[0m\u001b[0m\n\u001b[1;32m   1104\u001b[0m         \u001b[0mfull_backward_hooks\u001b[0m\u001b[0;34m,\u001b[0m \u001b[0mnon_full_backward_hooks\u001b[0m \u001b[0;34m=\u001b[0m \u001b[0;34m[\u001b[0m\u001b[0;34m]\u001b[0m\u001b[0;34m,\u001b[0m \u001b[0;34m[\u001b[0m\u001b[0;34m]\u001b[0m\u001b[0;34m\u001b[0m\u001b[0;34m\u001b[0m\u001b[0m\n",
      "\u001b[0;32m/tmp/ipykernel_15325/1738544739.py\u001b[0m in \u001b[0;36mforward\u001b[0;34m(self, x)\u001b[0m\n\u001b[1;32m     74\u001b[0m \u001b[0;34m\u001b[0m\u001b[0m\n\u001b[1;32m     75\u001b[0m         \u001b[0;32mdef\u001b[0m \u001b[0mforward\u001b[0m\u001b[0;34m(\u001b[0m\u001b[0mself\u001b[0m\u001b[0;34m,\u001b[0m \u001b[0mx\u001b[0m\u001b[0;34m)\u001b[0m\u001b[0;34m:\u001b[0m\u001b[0;34m\u001b[0m\u001b[0;34m\u001b[0m\u001b[0m\n\u001b[0;32m---> 76\u001b[0;31m             \u001b[0mx\u001b[0m \u001b[0;34m=\u001b[0m \u001b[0mF\u001b[0m\u001b[0;34m.\u001b[0m\u001b[0mrelu\u001b[0m\u001b[0;34m(\u001b[0m\u001b[0mF\u001b[0m\u001b[0;34m.\u001b[0m\u001b[0mavg_pool2d\u001b[0m\u001b[0;34m(\u001b[0m\u001b[0mself\u001b[0m\u001b[0;34m.\u001b[0m\u001b[0mconv1\u001b[0m\u001b[0;34m(\u001b[0m\u001b[0mx\u001b[0m\u001b[0;34m)\u001b[0m\u001b[0;34m,\u001b[0m \u001b[0;36m2\u001b[0m\u001b[0;34m)\u001b[0m\u001b[0;34m)\u001b[0m\u001b[0;34m\u001b[0m\u001b[0;34m\u001b[0m\u001b[0m\n\u001b[0m\u001b[1;32m     77\u001b[0m \u001b[0;34m\u001b[0m\u001b[0m\n\u001b[1;32m     78\u001b[0m             \u001b[0mx\u001b[0m \u001b[0;34m=\u001b[0m \u001b[0mF\u001b[0m\u001b[0;34m.\u001b[0m\u001b[0mrelu\u001b[0m\u001b[0;34m(\u001b[0m\u001b[0mF\u001b[0m\u001b[0;34m.\u001b[0m\u001b[0mavg_pool2d\u001b[0m\u001b[0;34m(\u001b[0m\u001b[0mself\u001b[0m\u001b[0;34m.\u001b[0m\u001b[0mconv2\u001b[0m\u001b[0;34m(\u001b[0m\u001b[0mx\u001b[0m\u001b[0;34m)\u001b[0m\u001b[0;34m,\u001b[0m \u001b[0;36m2\u001b[0m\u001b[0;34m)\u001b[0m\u001b[0;34m)\u001b[0m\u001b[0;34m\u001b[0m\u001b[0;34m\u001b[0m\u001b[0m\n",
      "\u001b[0;31mKeyboardInterrupt\u001b[0m: "
     ]
    }
   ],
   "source": [
    "torch.manual_seed(0)\n",
    "random.seed(0)\n",
    "np.random.seed(0)\n",
    "\n",
    "trainAcc, devAcc, trainLosses, devLosses, Gervasio = trainGervasio()\n"
   ]
  },
  {
   "cell_type": "code",
   "execution_count": null,
   "metadata": {},
   "outputs": [
    {
     "data": {
      "image/png": "[encoded data removed]",
      "text/plain": [
       "<Figure size 1152x360 with 2 Axes>"
      ]
     },
     "metadata": {
      "needs_background": "light"
     },
     "output_type": "display_data"
    }
   ],
   "source": [
    "fig, ax = plt.subplots(1, 2, figsize=(16, 5))\n",
    "\n",
    "ax[0].plot(trainLosses, \"s-\", label=\"Train\")\n",
    "ax[0].plot(devLosses, \"o-\", label=\"Dev\")\n",
    "ax[0].set_xlabel(\"Epochs\")\n",
    "ax[0].set_ylabel(\"Loss\")\n",
    "ax[0].set_title(\"Model loss\")\n",
    "\n",
    "ax[1].plot(trainAcc, \"s-\", label=\"Train\")\n",
    "ax[1].plot(devAcc, \"o-\", label=\"Dev\")\n",
    "ax[1].set_xlabel(\"Epochs\")\n",
    "ax[1].set_ylabel(\"Accuracy (%)\")\n",
    "ax[1].set_title(f\"Final model dev accuracy: {devAcc[-1]:.2f}%\")\n",
    "ax[1].legend()\n",
    "\n",
    "plt.show()"
   ]
  },
  {
   "cell_type": "code",
   "execution_count": null,
   "metadata": {},
   "outputs": [],
   "source": [
    "Y_pred = Gervasio(X_TEST_tensor)"
   ]
  },
  {
   "cell_type": "code",
   "execution_count": null,
   "metadata": {},
   "outputs": [
    {
     "ename": "NameError",
     "evalue": "name 'Y_pred' is not defined",
     "output_type": "error",
     "traceback": [
      "\u001b[0;31m---------------------------------------------------------------------------\u001b[0m",
      "\u001b[0;31mNameError\u001b[0m                                 Traceback (most recent call last)",
      "\u001b[0;32m/tmp/ipykernel_15325/3015759936.py\u001b[0m in \u001b[0;36m<module>\u001b[0;34m\u001b[0m\n\u001b[1;32m      2\u001b[0m \u001b[0;34m\u001b[0m\u001b[0m\n\u001b[1;32m      3\u001b[0m \u001b[0;32mfor\u001b[0m \u001b[0mi\u001b[0m \u001b[0;32min\u001b[0m \u001b[0mrange\u001b[0m\u001b[0;34m(\u001b[0m\u001b[0;36m0\u001b[0m\u001b[0;34m,\u001b[0m \u001b[0;36m10\u001b[0m\u001b[0;34m)\u001b[0m\u001b[0;34m:\u001b[0m\u001b[0;34m\u001b[0m\u001b[0;34m\u001b[0m\u001b[0m\n\u001b[0;32m----> 4\u001b[0;31m   \u001b[0;32mif\u001b[0m \u001b[0mY_pred\u001b[0m\u001b[0;34m[\u001b[0m\u001b[0mi\u001b[0m\u001b[0;34m]\u001b[0m \u001b[0;34m>=\u001b[0m \u001b[0;36m0.5\u001b[0m\u001b[0;34m:\u001b[0m\u001b[0;34m\u001b[0m\u001b[0;34m\u001b[0m\u001b[0m\n\u001b[0m\u001b[1;32m      5\u001b[0m     \u001b[0mprint\u001b[0m\u001b[0;34m(\u001b[0m\u001b[0;34m\"female\"\u001b[0m\u001b[0;34m,\u001b[0m \u001b[0mY_pred\u001b[0m\u001b[0;34m[\u001b[0m\u001b[0mi\u001b[0m\u001b[0;34m]\u001b[0m\u001b[0;34m)\u001b[0m\u001b[0;34m\u001b[0m\u001b[0;34m\u001b[0m\u001b[0m\n\u001b[1;32m      6\u001b[0m   \u001b[0;32melse\u001b[0m\u001b[0;34m:\u001b[0m\u001b[0;34m\u001b[0m\u001b[0;34m\u001b[0m\u001b[0m\n",
      "\u001b[0;31mNameError\u001b[0m: name 'Y_pred' is not defined"
     ]
    }
   ],
   "source": [
    "X_TEST = X_TEST.reshape(X_TEST.shape[0], 50, 50, 1)\n",
    "\n",
    "for i in range(0, 10):\n",
    "  if Y_pred[i] >= 0.5:\n",
    "    print(\"female\", Y_pred[i])\n",
    "  else:\n",
    "    print(\"male\", Y_pred[i])\n",
    "    \n",
    "  plt.imshow(X_TEST[i])\n",
    "  plt.show()\n",
    "  time.sleep(1)"
   ]
  }
 ],
 "metadata": {
  "interpreter": {
   "hash": "fa9111717ff9424e48ea0f227d2c8539ee3d9ef9fc2dfc832a57b8d62dd12f7c"
  },
  "kernelspec": {
   "display_name": "Python 3 (ipykernel)",
   "language": "python",
   "name": "python3"
  },
  "language_info": {
   "codemirror_mode": {
    "name": "ipython",
    "version": 3
   },
   "file_extension": ".py",
   "mimetype": "text/x-python",
   "name": "python",
   "nbconvert_exporter": "python",
   "pygments_lexer": "ipython3",
   "version": "3.9.7"
  }
 },
 "nbformat": 4,
 "nbformat_minor": 2
}
