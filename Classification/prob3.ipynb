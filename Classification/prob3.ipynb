{
 "cells": [
  {
   "cell_type": "code",
   "execution_count": 146,
   "metadata": {},
   "outputs": [],
   "source": [
    "import numpy as np\n",
    "from matplotlib import pyplot as plt\n",
    "import torch\n",
    "from torch import nn\n",
    "import torch.nn.functional as F\n",
    "from sklearn.model_selection import train_test_split\n",
    "\n",
    "from torch.utils.data import DataLoader, TensorDataset\n",
    "\n",
    "from torchsummary import summary"
   ]
  },
  {
   "cell_type": "code",
   "execution_count": 147,
   "metadata": {},
   "outputs": [],
   "source": [
    "X = np.load(\"Xtrain_Classification_Part1.npy\")\n",
    "X_TESTE = np.load(\"Xtest_Classification_Part1.npy\")\n",
    "Y = np.load(\"Ytrain_Classification_Part1.npy\")"
   ]
  },
  {
   "cell_type": "code",
   "execution_count": 148,
   "metadata": {},
   "outputs": [
    {
     "data": {
      "image/png": "[encoded data removed]",
      "text/plain": [
       "<Figure size 432x288 with 1 Axes>"
      ]
     },
     "metadata": {
      "needs_background": "light"
     },
     "output_type": "display_data"
    }
   ],
   "source": [
    "X = X.reshape(X.shape[0], 50, 50,1) / 255\n",
    "Y = Y.reshape(Y.shape[0], 1)\n",
    "\n",
    "plt.imshow(X[98], cmap=\"gray\")\n",
    "plt.show()"
   ]
  },
  {
   "cell_type": "code",
   "execution_count": 149,
   "metadata": {},
   "outputs": [],
   "source": [
    "X = X.reshape(X.shape[0], 1, 50, 50)\n",
    "\n",
    "X_tensor = torch.Tensor(X).float()\n",
    "Y_tensor = torch.Tensor(Y).float()\n",
    "\n",
    "#split the data\n",
    "trainX, testX, trainY, testY = train_test_split(X_tensor, Y_tensor)\n",
    "\n",
    "#convert to pytorch data\n",
    "trainX = TensorDataset(trainX, trainY)\n",
    "testX = TensorDataset(testX, testY)\n",
    "\n",
    "trainLoader = DataLoader(trainX)\n",
    "testLoader = DataLoader(testX)"
   ]
  },
  {
   "cell_type": "code",
   "execution_count": 150,
   "metadata": {},
   "outputs": [],
   "source": [
    "def createGervasio():\n",
    "    class gervasio(nn.Module):\n",
    "        def __init__(self) -> None:\n",
    "            super().__init__()\n",
    "\n",
    "            self.conv1 = nn.Conv2d(1, 10, kernel_size=5, stride=1, padding=1)\n",
    "            size = np.floor((np.floor((50 + 2 * 1 - 5) / 1) + 1) / 2)\n",
    "            \n",
    "            self.conv2 = nn.Conv2d(10, 20, kernel_size=5, stride=1, padding=1)\n",
    "            size = np.floor((np.floor((size + 2 * 1 - 5) / 1) + 1) / 2)\n",
    "\n",
    "            expectSize = np.floor((size + 2 * 0 - 1) / 1) + 1\n",
    "            expectSize = 20 * int(expectSize ** 2)\n",
    "\n",
    "            self.fc1 = nn.Linear(expectSize, 50)\n",
    "\n",
    "            self.out = nn.Linear(50, 1)\n",
    "\n",
    "        def forward(self, x):\n",
    "            x = F.relu(F.max_pool2d(self.conv1(x), 2))\n",
    "            \n",
    "            x = F.relu(F.max_pool2d(self.conv2(x),2))\n",
    "\n",
    "            nUnits = x.shape.numel() / x.shape[0]\n",
    "            x = x.view(-1, int(nUnits))\n",
    "\n",
    "            x = F.relu(self.fc1(x))\n",
    "\n",
    "            x = torch.sigmoid(self.out(x))\n",
    "            \n",
    "            return x\n",
    "\n",
    "    # criar o gervasio\n",
    "    Gervasio = gervasio()\n",
    "\n",
    "    # loss func\n",
    "    lossF = nn.BCELoss()  # binary cross entropy with logits\n",
    "\n",
    "    optimizer = torch.optim.Adam(Gervasio.parameters(), lr=0.001)\n",
    "\n",
    "    return Gervasio, lossF, optimizer\n"
   ]
  },
  {
   "cell_type": "code",
   "execution_count": 151,
   "metadata": {},
   "outputs": [],
   "source": [
    "# a function that trains the model\n",
    "\n",
    "def function2trainTheModel():\n",
    "\n",
    "  # number of epochs\n",
    "  numepochs = 10\n",
    "  \n",
    "  # create a new model\n",
    "  net,lossfun,optimizer = createGervasio()\n",
    "\n",
    "  # initialize losses\n",
    "  losses    = torch.zeros(numepochs)\n",
    "  trainAcc  = []\n",
    "  testAcc   = []\n",
    "\n",
    "\n",
    "  # loop over epochs\n",
    "  for epochi in range(numepochs):\n",
    "\n",
    "    # loop over training data batches\n",
    "    net.train()\n",
    "    batchAcc  = []\n",
    "    batchLoss = []\n",
    "    for X_for,y_for in trainLoader:\n",
    "\n",
    "      # forward pass and loss\n",
    "      y_forHat = net(X_for)\n",
    "      loss = lossfun(y_forHat,y_for)\n",
    "\n",
    "      # backprop\n",
    "      optimizer.zero_grad()\n",
    "      loss.backward()\n",
    "      optimizer.step()\n",
    "\n",
    "      # loss from this batch\n",
    "      batchLoss.append(loss.item())\n",
    "\n",
    "      # compute accuracy\n",
    "      matches = torch.argmax(y_forHat,axis=1) == y_for     # booleans (false/true)\n",
    "      matchesNumeric = matches.float()             # convert to numbers (0/1)\n",
    "      accuracyPct = 100*torch.mean(matchesNumeric) # average and x100\n",
    "      batchAcc.append( accuracyPct )               # add to list of accuracies\n",
    "    # end of batch loop...\n",
    "\n",
    "    # now that we've trained through the batches, get their average training accuracy\n",
    "    trainAcc.append( np.mean(batchAcc) )\n",
    "\n",
    "    # and get average losses across the batches\n",
    "    losses[epochi] = np.mean(batchLoss)\n",
    "\n",
    "    # test accuracy\n",
    "    net.eval()\n",
    "    X_with,y_with = next(iter(testLoader)) # extract X,y from test dataloader\n",
    "    with torch.no_grad(): # deactivates autograd\n",
    "      y_withHat = net(X_with)\n",
    "      print(y_withHat, y_with, y_with - y_withHat)\n",
    "      \n",
    "    # compare the following really long line of code to the training accuracy lines\n",
    "    testAcc.append( 100*torch.mean((torch.argmax(y_withHat,axis=1)==y_with).float()) )\n",
    "\n",
    "  # end epochs\n",
    "\n",
    "  # function output\n",
    "  return trainAcc,testAcc,losses,net\n"
   ]
  },
  {
   "cell_type": "code",
   "execution_count": 152,
   "metadata": {},
   "outputs": [
    {
     "name": "stdout",
     "output_type": "stream",
     "text": [
      "tensor([[0.9914]]) tensor([[1.]]) tensor([[0.0086]])\n",
      "tensor([[0.9955]]) tensor([[1.]]) tensor([[0.0045]])\n",
      "tensor([[0.9984]]) tensor([[1.]]) tensor([[0.0016]])\n",
      "tensor([[0.9991]]) tensor([[1.]]) tensor([[0.0009]])\n",
      "tensor([[0.9996]]) tensor([[1.]]) tensor([[0.0004]])\n",
      "tensor([[0.9998]]) tensor([[1.]]) tensor([[0.0002]])\n",
      "tensor([[0.9995]]) tensor([[1.]]) tensor([[0.0005]])\n",
      "tensor([[1.0000]]) tensor([[1.]]) tensor([[2.7418e-05]])\n",
      "tensor([[0.9997]]) tensor([[1.]]) tensor([[0.0003]])\n",
      "tensor([[1.0000]]) tensor([[1.]]) tensor([[9.8944e-06]])\n"
     ]
    },
    {
     "data": {
      "image/png": "[encoded data removed]",
      "text/plain": [
       "<Figure size 1152x360 with 2 Axes>"
      ]
     },
     "metadata": {
      "needs_background": "light"
     },
     "output_type": "display_data"
    }
   ],
   "source": [
    "trainAcc,testAcc,losses,net = function2trainTheModel()\n",
    "\n",
    "fig,ax = plt.subplots(1,2,figsize=(16,5))\n",
    "\n",
    "ax[0].plot(losses,'s-')\n",
    "ax[0].set_xlabel('Epochs')\n",
    "ax[0].set_ylabel('Loss')\n",
    "ax[0].set_title('Model loss')\n",
    "\n",
    "ax[1].plot(trainAcc,'s-',label='Train')\n",
    "ax[1].plot(testAcc,'o-',label='Test')\n",
    "ax[1].set_xlabel('Epochs')\n",
    "ax[1].set_ylabel('Accuracy (%)')\n",
    "ax[1].set_title(f'Final model test accuracy: {testAcc[-1]:.2f}%')\n",
    "ax[1].legend()\n",
    "\n",
    "plt.show()"
   ]
  }
 ],
 "metadata": {
  "interpreter": {
   "hash": "fb6ded15eeb30057ef5fdd512509aebb32ec6af3b3a3a9ee44408e487deba18f"
  },
  "kernelspec": {
   "display_name": "Python 3.9.5 64-bit ('AAut-env': venv)",
   "name": "python3"
  },
  "language_info": {
   "codemirror_mode": {
    "name": "ipython",
    "version": 3
   },
   "file_extension": ".py",
   "mimetype": "text/x-python",
   "name": "python",
   "nbconvert_exporter": "python",
   "pygments_lexer": "ipython3",
   "version": "3.9.5"
  },
  "orig_nbformat": 4
 },
 "nbformat": 4,
 "nbformat_minor": 2
}
