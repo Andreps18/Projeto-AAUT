{
 "cells": [
  {
   "cell_type": "code",
   "execution_count": 1,
   "metadata": {},
   "outputs": [],
   "source": [
    "import matplotlib.pyplot as plt\n",
    "import numpy as np\n",
    "from sklearn import linear_model\n",
    "from sklearn.metrics import r2_score\n",
    "from sklearn.metrics import mean_squared_error as MSE\n",
    "from sklearn.model_selection import cross_val_score"
   ]
  },
  {
   "cell_type": "code",
   "execution_count": 2,
   "metadata": {},
   "outputs": [],
   "source": [
    "# Load the datasets\n",
    "X = np.load(\"Xtrain_Regression_Part1.npy\")\n",
    "X_TESTE = np.load(\"Xtest_Regression_Part1.npy\")\n",
    "Y = np.load(\"Ytrain_Regression_Part1.npy\")\n",
    "\n",
    "X_test = X[-20:] #Select the last 20 points for testing\n",
    "X_train = X[:-20] #Select the 80 1st points for training\n",
    "\n",
    "#Same thing for Y\n",
    "Y_test = Y[-20:]\n",
    "Y_train = Y[:-20]"
   ]
  },
  {
   "cell_type": "markdown",
   "metadata": {},
   "source": [
    "Ridge Regression with cross validation"
   ]
  },
  {
   "cell_type": "code",
   "execution_count": 3,
   "metadata": {},
   "outputs": [],
   "source": [
    "# # alphas = np.arange(0.0000001, 0.000001, 0.000000001)\n",
    "# # alphas = (0.0001, 0.001, 0.035, 0.1, 1, 10)\n",
    "# alphas = np.arange(0.0001, 0.5, 0.0001) \n",
    "# print(alphas.shape)\n",
    "# print((0.035 in alphas))\n",
    "# Ridge_cv = linear_model.RidgeCV(alphas=(alphas), scoring='neg_mean_squared_error', cv=5)\n",
    "# model = Ridge_cv.fit(X, Y)\n",
    "# print(f\"Best alpha {model.alpha_} -- MSE: {model.best_score_}\")"
   ]
  },
  {
   "cell_type": "markdown",
   "metadata": {},
   "source": [
    "Lasso Regression with cross validation"
   ]
  },
  {
   "cell_type": "code",
   "execution_count": 4,
   "metadata": {},
   "outputs": [],
   "source": [
    "#alphas = np.arange(0.0000001, 0.000001, 0.000000001)\n",
    "# alphas = np.array([0.001, 0.002, 0.003, 0.004, 0.005])\n",
    "# alphas = np.arange(0.0001, 0.5, 0.00001) \n",
    "# print(alphas)\n",
    "# print((0.035 in alphas))\n",
    "# Lasso_cv = linear_model.LassoCV(alphas=(alphas), cv=5)\n",
    "# model = Lasso_cv.fit(X, np.ravel(Y))\n",
    "# print(f\"Best alpha {model.alpha_}\")"
   ]
  },
  {
   "cell_type": "markdown",
   "metadata": {},
   "source": [
    "CROSS VALIDATION"
   ]
  },
  {
   "cell_type": "code",
   "execution_count": 5,
   "metadata": {},
   "outputs": [
    {
     "name": "stdout",
     "output_type": "stream",
     "text": [
      "Lasso best error 0.016713602190598364 from alpha=0.0002\n",
      "Ridge best error 0.016730181681383776 from alpha=0.0001\n"
     ]
    }
   ],
   "source": [
    "#FINDING THE BEST ALPHA FOR THE LASSO\n",
    "alphas = np.arange(0.0001, 0.2, 0.0001)\n",
    "scores = {}\n",
    "\n",
    "for alpha in alphas:\n",
    "    scores[str(alpha)] = -1*np.average(cross_val_score(linear_model.Lasso(alpha=alpha), X, Y, scoring='neg_mean_squared_error', cv=5))\n",
    "\n",
    "best=min( list(scores.values()) )\n",
    "lasso_alpha = list(scores.keys())[ list(scores.values()).index(best) ]\n",
    "print(f\"Lasso best error {best} from alpha={ lasso_alpha }\")\n",
    "\n",
    "#And for Ridge\n",
    "for alpha in alphas:\n",
    "    scores[str(alpha)] = -1*np.average(cross_val_score(linear_model.Ridge(alpha=alpha), X, Y, scoring='neg_mean_squared_error', cv=5))\n",
    "\n",
    "best=min( list(scores.values()) )\n",
    "ridge_alpha = list(scores.keys())[ list(scores.values()).index(best) ]\n",
    "print(f\"Ridge best error {best} from alpha={ ridge_alpha }\")"
   ]
  },
  {
   "cell_type": "code",
   "execution_count": 6,
   "metadata": {},
   "outputs": [
    {
     "name": "stdout",
     "output_type": "stream",
     "text": [
      "LINEAR: 0.016729948323158324 \n",
      "RIDGE: 0.016730181681383776 \n",
      "LASSO: 0.016713602190598364 \n",
      "best is 0.016713602190598364 from Lasso\n"
     ]
    }
   ],
   "source": [
    "#testing with the previous \"best\" alpha value\n",
    "\n",
    "scores = {}\n",
    "\n",
    "#linear regression\n",
    "scores['Linear'] = cross_val_score(linear_model.LinearRegression(), X, Y, scoring='neg_mean_squared_error', cv=5)\n",
    "scores['Linear'] = -1*np.average(scores['Linear'])\n",
    "\n",
    "#ridge\n",
    "scores['Ridge'] = cross_val_score(linear_model.Ridge(alpha=float(ridge_alpha)), X, Y, scoring='neg_mean_squared_error', cv=5)\n",
    "scores['Ridge'] = -1*np.average(scores['Ridge'])\n",
    "\n",
    "#lasso\n",
    "scores['Lasso'] = cross_val_score(linear_model.Lasso(alpha=float(lasso_alpha)), X, Y, scoring='neg_mean_squared_error', cv=5)\n",
    "scores['Lasso'] = -1*np.average(scores['Lasso']) \n",
    "\n",
    "print(f\"LINEAR: {scores['Linear']} \")\n",
    "print(f\"RIDGE: {scores['Ridge']} \")\n",
    "print(f\"LASSO: {scores['Lasso']} \")\n",
    "\n",
    "best=min( scores.values() )\n",
    "print(f\"best is {best} from { list(scores.keys())[ list(scores.values()).index(best) ] }\")"
   ]
  },
  {
   "cell_type": "markdown",
   "metadata": {},
   "source": [
    "CÓDIGO PARA ENTREGAR"
   ]
  },
  {
   "cell_type": "code",
   "execution_count": 7,
   "metadata": {},
   "outputs": [
    {
     "name": "stdout",
     "output_type": "stream",
     "text": [
      "Best model is Lasso, lets predict! 😉\n"
     ]
    }
   ],
   "source": [
    "model_name =  list(scores.keys())[ list(scores.values()).index(best) ] \n",
    "\n",
    "print(f\"Best model is {model_name}, lets predict! \\N{winking face}\")\n",
    "\n",
    "if model_name == 'Linear':\n",
    "    model = linear_model.LinearRegression()\n",
    "\n",
    "elif model_name == 'Ridge':\n",
    "    model = linear_model.Ridge(alpha=float(ridge_alpha))\n",
    "    \n",
    "elif model_name == 'Lasso':\n",
    "    model = linear_model.Lasso(alpha=float(lasso_alpha))\n",
    "        \n",
    "else: \n",
    "    exit()\n",
    "    \n",
    "\n",
    "#train and predict\n",
    "model.fit(X, Y)\n",
    "\n",
    "Y_pred = model.predict(X_TESTE)\n",
    "\n",
    "with open('Y_pred.npy', 'wb') as f:\n",
    "    np.save(f, Y_pred)"
   ]
  }
 ],
 "metadata": {
  "interpreter": {
   "hash": "fb6ded15eeb30057ef5fdd512509aebb32ec6af3b3a3a9ee44408e487deba18f"
  },
  "kernelspec": {
   "display_name": "Python 3.9.5 64-bit ('AAut-env': venv)",
   "name": "python3"
  },
  "language_info": {
   "codemirror_mode": {
    "name": "ipython",
    "version": 3
   },
   "file_extension": ".py",
   "mimetype": "text/x-python",
   "name": "python",
   "nbconvert_exporter": "python",
   "pygments_lexer": "ipython3",
   "version": "3.9.5"
  },
  "orig_nbformat": 4
 },
 "nbformat": 4,
 "nbformat_minor": 2
}
